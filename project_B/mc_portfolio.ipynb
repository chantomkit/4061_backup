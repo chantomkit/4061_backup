{
 "cells": [
  {
   "cell_type": "code",
   "execution_count": 29,
   "metadata": {},
   "outputs": [],
   "source": [
    "import numpy as np\n",
    "import yfinance as yf\n",
    "import pandas as pd\n",
    "import matplotlib.pyplot as plt"
   ]
  },
  {
   "cell_type": "code",
   "execution_count": 2,
   "metadata": {},
   "outputs": [
    {
     "data": {
      "text/plain": [
       "503"
      ]
     },
     "execution_count": 2,
     "metadata": {},
     "output_type": "execute_result"
    }
   ],
   "source": [
    "table = pd.read_html('https://en.wikipedia.org/wiki/List_of_S%26P_500_companies')\n",
    "sp500_list = table[0]['Symbol'].to_list()\n",
    "sp500_list = [s.replace('.', '-') for s in sp500_list]\n",
    "len(sp500_list)"
   ]
  },
  {
   "cell_type": "code",
   "execution_count": 3,
   "metadata": {},
   "outputs": [
    {
     "data": {
      "text/plain": [
       "102"
      ]
     },
     "execution_count": 3,
     "metadata": {},
     "output_type": "execute_result"
    }
   ],
   "source": [
    "table = pd.read_html('https://en.wikipedia.org/wiki/Nasdaq-100')\n",
    "nasdaq_list = table[4]['Ticker'].to_list()\n",
    "nasdaq_list = [s.replace('.', '-') for s in nasdaq_list]\n",
    "len(nasdaq_list)"
   ]
  },
  {
   "cell_type": "code",
   "execution_count": 4,
   "metadata": {},
   "outputs": [],
   "source": [
    "stock_pool = list(set(sp500_list).union(set(nasdaq_list)))"
   ]
  },
  {
   "cell_type": "code",
   "execution_count": 5,
   "metadata": {},
   "outputs": [
    {
     "name": "stdout",
     "output_type": "stream",
     "text": [
      "[*********************100%***********************]  526 of 526 completed\n",
      "\n",
      "2 Failed downloads:\n",
      "- CEG: Data doesn't exist for startDate = 1577854800, endDate = 1609390800\n",
      "- OGN: Data doesn't exist for startDate = 1577854800, endDate = 1609390800\n"
     ]
    }
   ],
   "source": [
    "from main import get_norm_return\n",
    "norm_return = get_norm_return(stock_pool, '2020-01-01', '2020-12-31', dropna=True)"
   ]
  },
  {
   "cell_type": "code",
   "execution_count": 46,
   "metadata": {},
   "outputs": [
    {
     "name": "stdout",
     "output_type": "stream",
     "text": [
      "[*********************100%***********************]  1 of 1 completed\n"
     ]
    }
   ],
   "source": [
    "spy = yf.download(\"SPY\", start=\"2020-01-01\", end=\"2020-12-31\")"
   ]
  },
  {
   "cell_type": "code",
   "execution_count": 55,
   "metadata": {},
   "outputs": [
    {
     "data": {
      "image/png": "[encoded data removed]",
      "text/plain": [
       "<Figure size 432x288 with 1 Axes>"
      ]
     },
     "metadata": {
      "needs_background": "light"
     },
     "output_type": "display_data"
    },
    {
     "data": {
      "text/plain": [
       "1.3262467499346524"
      ]
     },
     "execution_count": 55,
     "metadata": {},
     "output_type": "execute_result"
    }
   ],
   "source": [
    "from main import random_portfolio\n",
    "p = random_portfolio(norm_return.columns)\n",
    "# print(p[0], p[1])\n",
    "\n",
    "initial_cap = 1e6\n",
    "portfolio = norm_return[p[0]] * p[1] * initial_cap\n",
    "portfolio['TotalPos'] = portfolio.sum(axis=1)\n",
    "portfolio['PercentagePos'] = portfolio.TotalPos / portfolio.TotalPos.iloc[0]\n",
    "portfolio['DailyPercentageReturn'] = portfolio['TotalPos'].pct_change(1)\n",
    "\n",
    "portfolio.PercentagePos.plot(label='myPortfolio')\n",
    "\n",
    "(spy['Adj Close'] / spy['Adj Close'].iloc[0]).plot(label='SP500')\n",
    "plt.legend()\n",
    "plt.show()\n",
    "\n",
    "kvalue = {'D': np.sqrt(252), 'W': np.sqrt(52), 'M': np.sqrt(12)}\n",
    "sharpe = kvalue['D'] * portfolio.DailyPercentageReturn.mean() / portfolio.DailyPercentageReturn.std()\n",
    "sharpe"
   ]
  },
  {
   "cell_type": "code",
   "execution_count": 57,
   "metadata": {},
   "outputs": [
    {
     "data": {
      "text/plain": [
       "(array(['ATVI', 'ACN', 'RMD', 'TSLA', 'LYB', 'REGN', 'LW', 'ANSS', 'STZ',\n",
       "        'CMCSA', 'TJX', 'CCL', 'EMR', 'CAH', 'MOS', 'XRAY'], dtype=object),\n",
       " array([0.0625, 0.0625, 0.0625, 0.0625, 0.0625, 0.0625, 0.0625, 0.0625,\n",
       "        0.0625, 0.0625, 0.0625, 0.0625, 0.0625, 0.0625, 0.0625, 0.0625]))"
      ]
     },
     "execution_count": 57,
     "metadata": {},
     "output_type": "execute_result"
    }
   ],
   "source": [
    "p[0], p[1]"
   ]
  },
  {
   "cell_type": "code",
   "execution_count": null,
   "metadata": {},
   "outputs": [],
   "source": []
  }
 ],
 "metadata": {
  "kernelspec": {
   "display_name": "Python 3.9.12 ('base')",
   "language": "python",
   "name": "python3"
  },
  "language_info": {
   "codemirror_mode": {
    "name": "ipython",
    "version": 3
   },
   "file_extension": ".py",
   "mimetype": "text/x-python",
   "name": "python",
   "nbconvert_exporter": "python",
   "pygments_lexer": "ipython3",
   "version": "3.9.12"
  },
  "orig_nbformat": 4,
  "vscode": {
   "interpreter": {
    "hash": "6b1b51844297d35c968758913ba1b8e9c346e0ddf0da5bc15cfd46ed8ca42702"
   }
  }
 },
 "nbformat": 4,
 "nbformat_minor": 2
}
