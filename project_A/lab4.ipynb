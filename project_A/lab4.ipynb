{
 "cells": [
  {
   "cell_type": "code",
   "execution_count": 284,
   "metadata": {},
   "outputs": [],
   "source": [
    "import numpy as np\n",
    "import math"
   ]
  },
  {
   "cell_type": "code",
   "execution_count": 285,
   "metadata": {},
   "outputs": [],
   "source": [
    "a_ArAr = 5.311"
   ]
  },
  {
   "cell_type": "code",
   "execution_count": 286,
   "metadata": {},
   "outputs": [],
   "source": [
    "def gen_simplecubic(nx, ny, nz, lattice_cnst, shiftx = 0, shifty = 0, shiftz = 0):\n",
    "    return np.array([[i*lattice_cnst+shiftx, j*lattice_cnst+shifty, k*lattice_cnst+shiftz] for i in range(nx) for j in range(ny) for k in range(nz)])\n",
    "\n",
    "def gen_fcc(nx, ny, nz, lattice_cnst, shiftx = 0, shifty = 0, shiftz = 0):\n",
    "    return np.array([[[i*lattice_cnst+shiftx, j*lattice_cnst+shifty, k*lattice_cnst+shiftz], [(i+0.5)*lattice_cnst+shiftx, (j+0.5)*lattice_cnst+shifty, k*lattice_cnst+shiftz] ,[(i+0.5)*lattice_cnst+shiftx, j*lattice_cnst+shifty, (k+0.5)*lattice_cnst+shiftz], [i*lattice_cnst+shiftx, (j+0.5)*lattice_cnst+shifty, (k+0.5)*lattice_cnst+shiftz]]for i in range(nx) for j in range(ny) for k in range(nz)]).reshape(-1, 3)\n",
    "\n",
    "def perturb_cell(cell, strength=0.05):\n",
    "    return cell + np.random.rand(cell.shape[0], cell.shape[1]) * strength"
   ]
  },
  {
   "cell_type": "code",
   "execution_count": 287,
   "metadata": {},
   "outputs": [
    {
     "data": {
      "text/plain": [
       "(32, 3)"
      ]
     },
     "execution_count": 287,
     "metadata": {},
     "output_type": "execute_result"
    }
   ],
   "source": [
    "dim = 2\n",
    "# cell = gen_simplecubic(dim,dim,dim,a_ArAr)\n",
    "cell = gen_fcc(dim,dim,dim,a_ArAr)\n",
    "cell_vector = np.array([[dim*a_ArAr,0,0], [0,dim*a_ArAr,0], [0,0,dim*a_ArAr]])\n",
    "cell.shape"
   ]
  },
  {
   "cell_type": "code",
   "execution_count": 288,
   "metadata": {},
   "outputs": [],
   "source": [
    "def reciprocal_vec(a):\n",
    "    b = np.empty((3,3))\n",
    "    vol = np.dot(a[0], np.cross(a[1], a[2]))\n",
    "    b[0] = np.cross(a[1], a[2]) / vol\n",
    "    b[1] = np.cross(a[2], a[0]) / vol\n",
    "    b[2] = np.cross(a[0], a[1]) / vol\n",
    "    return b\n",
    "\n",
    "def pbc(d):\n",
    "    tmp = np.modf(d)[0]\n",
    "    tmp[tmp > 0.5] -= 1\n",
    "    tmp[tmp < -0.5] += 1\n",
    "    return tmp\n"
   ]
  },
  {
   "cell_type": "code",
   "execution_count": 289,
   "metadata": {},
   "outputs": [
    {
     "data": {
      "text/plain": [
       "(array([ 1.0622e+01,  1.1322e+04, -3.1300e+02]),\n",
       " array([ 0.   , -1.052, -4.962]))"
      ]
     },
     "execution_count": 289,
     "metadata": {},
     "output_type": "execute_result"
    }
   ],
   "source": [
    "r_cell_vector = reciprocal_vec(cell_vector)\n",
    "d = np.array([dim*a_ArAr,11322,-313])\n",
    "r_trued = pbc(d.dot(r_cell_vector))\n",
    "trued = r_trued.dot(cell_vector)\n",
    "d, trued"
   ]
  },
  {
   "cell_type": "code",
   "execution_count": 290,
   "metadata": {},
   "outputs": [],
   "source": [
    "import pandas as pd\n",
    "def neighbor_list(xyz, lattice, cutoff=np.Inf):\n",
    "    nlist = {'atom1':[], 'atom2':[], 'dvec': [], 'r2': []}\n",
    "    r_lattice = reciprocal_vec(lattice)\n",
    "    for i in range(len(xyz)):\n",
    "        for j in range(i+1, len(xyz)):\n",
    "            d = xyz[j] - xyz[i]\n",
    "            r_trued = pbc(d.dot(r_cell_vector))\n",
    "            trued = r_trued.dot(cell_vector)\n",
    "            r2 = trued.dot(trued)\n",
    "            if r2 < cutoff**2:\n",
    "                nlist['atom1'].append(i)\n",
    "                nlist['atom2'].append(j)\n",
    "                nlist['dvec'].append(d)\n",
    "                nlist['r2'].append(r2)\n",
    "    return nlist"
   ]
  },
  {
   "cell_type": "code",
   "execution_count": 291,
   "metadata": {},
   "outputs": [],
   "source": [
    "pi = 3.141592654\n",
    "e_0 = 55.26349406 / 1e4 # e^2 eV^-1 Angstrom^-1, vacuum permittivity\n",
    "eV = 1.602176634e-19\n",
    "\n",
    "a_ArAr = 5.311 # Angstrom, lattice constant\n",
    "epsilon_ArAr = 0.0104 # eV, potential params \n",
    "sigma_ArAr = 0.34 * 10 # Angstrom, potential params \n",
    "\n",
    "En_Ar = -0.08 # eV, reference cohesive energy\n",
    "\n",
    "def LJ(r2, epsilon, sigma):\n",
    "    sq_sigma = sigma * sigma\n",
    "    s_r_6 = (sq_sigma / r2) * (sq_sigma / r2) * (sq_sigma / r2)\n",
    "    return 4 * epsilon * (s_r_6 * s_r_6 - s_r_6)\n",
    "\n",
    "def LJ_slope_prefactor(r2, epsilon, sigma):\n",
    "    sigma2 = sigma * sigma\n",
    "    s_r_6 = (sigma2 / r2) * (sigma2 / r2) * (sigma2 / r2)\n",
    "    return 4 * epsilon * (- 12 * s_r_6 * s_r_6 / r2 + 6 * s_r_6 / r2)"
   ]
  },
  {
   "cell_type": "code",
   "execution_count": 292,
   "metadata": {},
   "outputs": [],
   "source": [
    "def LJ_Fprime(xyz, lattice):\n",
    "    nlist_df = pd.DataFrame(neighbor_list(xyz, lattice))\n",
    "    Fprime = np.zeros((len(xyz), 3))\n",
    "    pref_df = LJ_slope_prefactor(nlist_df['r2'], epsilon_ArAr, sigma_ArAr)\n",
    "    for (pref, d, a1, a2) in zip(pref_df, nlist_df['dvec'], nlist_df['atom1'], nlist_df['atom2']):\n",
    "        Fprime[a1] -= pref * np.array(d)\n",
    "        Fprime[a2] += pref * np.array(d)\n",
    "    return Fprime\n",
    "\n",
    "def nextstep_xyz(xyz, Fprime, rate=1e-6):\n",
    "    step_xyz = xyz + rate * -Fprime\n",
    "    return step_xyz\n",
    "\n",
    "def secant_method(Fprime, step_Fprime, h, rate=1e-6):\n",
    "    diff = (step_Fprime - Fprime).dot((step_Fprime - Fprime).T).diagonal()\n",
    "    alpha = -rate * Fprime.dot(h.T).diagonal() / (step_Fprime - Fprime).dot(h.T).diagonal()\n",
    "    alpha[diff < 1e-16] = 0\n",
    "    return alpha\n",
    "\n",
    "def LJ_SD(xyz, lattice):\n",
    "    Fprime = LJ_Fprime(xyz, lattice)\n",
    "    step_Fprime = LJ_Fprime(nextstep_xyz(cell, Fprime), cell_vector)\n",
    "    h = -Fprime\n",
    "    alpha = secant_method(Fprime, step_Fprime, h)\n",
    "    next_xyz = np.array([coords + a * -f for (coords, a, f) in zip(xyz, alpha, Fprime)])\n",
    "    return next_xyz"
   ]
  },
  {
   "cell_type": "code",
   "execution_count": 293,
   "metadata": {},
   "outputs": [
    {
     "name": "stdout",
     "output_type": "stream",
     "text": [
      "-2.28441129230312\n",
      "-2.194394305939452\n",
      "-2.2611857329754255\n",
      "-1.3419949265246311\n",
      "-1.9115451410517608\n",
      "-2.0938400181824437\n",
      "-2.1349894281930517\n",
      "-2.012785524562303\n",
      "-1.7350646236852951\n",
      "1440.682376347875\n"
     ]
    }
   ],
   "source": [
    "cell = gen_fcc(dim,dim,dim,a_ArAr)\n",
    "cell = perturb_cell(cell)\n",
    "cell_vector = np.array([[dim*a_ArAr,0,0], [0,dim*a_ArAr,0], [0,0,dim*a_ArAr]])\n",
    "for i in range(10):\n",
    "    # print(cell[:5])\n",
    "    nlist_df = pd.DataFrame(neighbor_list(cell, cell_vector))\n",
    "    print(sum(LJ(nlist_df['r2'], epsilon_ArAr, sigma_ArAr)))\n",
    "    cell = LJ_SD(cell, cell_vector)"
   ]
  },
  {
   "cell_type": "code",
   "execution_count": null,
   "metadata": {},
   "outputs": [],
   "source": []
  }
 ],
 "metadata": {
  "kernelspec": {
   "display_name": "Python 3.9.12 ('base')",
   "language": "python",
   "name": "python3"
  },
  "language_info": {
   "codemirror_mode": {
    "name": "ipython",
    "version": 3
   },
   "file_extension": ".py",
   "mimetype": "text/x-python",
   "name": "python",
   "nbconvert_exporter": "python",
   "pygments_lexer": "ipython3",
   "version": "3.9.12"
  },
  "orig_nbformat": 4,
  "vscode": {
   "interpreter": {
    "hash": "6b1b51844297d35c968758913ba1b8e9c346e0ddf0da5bc15cfd46ed8ca42702"
   }
  }
 },
 "nbformat": 4,
 "nbformat_minor": 2
}
