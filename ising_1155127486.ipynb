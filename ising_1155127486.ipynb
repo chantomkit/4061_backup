{
  "cells": [
    {
      "cell_type": "markdown",
      "metadata": {
        "id": "QaR9WbwWcYj7"
      },
      "source": [
        "Run this cell once to mount your drive."
      ]
    },
    {
      "cell_type": "code",
      "execution_count": 1,
      "metadata": {
        "colab": {
          "base_uri": "https://localhost:8080/"
        },
        "id": "1iuHGfEPwVOe",
        "outputId": "19273751-46e6-4fdf-f693-b7966fe1f322"
      },
      "outputs": [
        {
          "name": "stdout",
          "output_type": "stream",
          "text": [
            "Drive already mounted at /content/drive; to attempt to forcibly remount, call drive.mount(\"/content/drive\", force_remount=True).\n"
          ]
        }
      ],
      "source": [
        "from google.colab import drive\n",
        "drive.mount('/content/drive')"
      ]
    },
    {
      "cell_type": "code",
      "execution_count": 2,
      "metadata": {
        "id": "EaJB3UtfdQR3"
      },
      "outputs": [],
      "source": [
        "import matplotlib.pyplot as plt\n",
        "import numpy as np\n",
        "def plot_pic(indata, inlabel, n):\n",
        " pic=indata[n,:]\n",
        " plt.title(\"label: {}\".format(inlabel[n]))\n",
        " plt.imshow(pic, cmap='binary')"
      ]
    },
    {
      "cell_type": "markdown",
      "metadata": {
        "id": "NzJd7FnygAnN"
      },
      "source": [
        "Remember to copy your own path, reference the instruction manual and ask the TA if you cannot figure it out."
      ]
    },
    {
      "cell_type": "code",
      "execution_count": 3,
      "metadata": {
        "id": "l-fMr2Y1dTzB"
      },
      "outputs": [],
      "source": [
        "data_x = np.load(\"/content/drive/MyDrive/Colab Notebooks/new/data_x.npy\")\n",
        "data_y = np.load(\"/content/drive/MyDrive/Colab Notebooks/new/data_y.npy\")\n"
      ]
    },
    {
      "cell_type": "code",
      "execution_count": 4,
      "metadata": {
        "id": "K37tIyNIQ4K4"
      },
      "outputs": [],
      "source": [
        "x_tra=np.zeros((24000,30,30))\n",
        "y_tra=np.zeros((24000))\n",
        "x_tes=np.zeros((6000,30,30))\n",
        "y_tes=np.zeros((6000))\n",
        "# x_tra = np.load(\"/content/drive/MyDrive/Colab Notebooks/new/tra1.npy\")\n",
        "# y_tra = np.load(\"/content/drive/MyDrive/Colab Notebooks/new/tra2.npy\")\n",
        "# x_tes = np.load(\"/content/drive/MyDrive/Colab Notebooks/new/tes1.npy\")\n",
        "# y_tes = np.load(\"/content/drive/MyDrive/Colab Notebooks/new/tes2.npy\")\n",
        "for i in range(24000):\n",
        "  x_tra[i] = data_x[i]\n",
        "  y_tra[i] = data_y[i]\n",
        "for i in range(6000):\n",
        "  x_tes[i] = data_x[i+24000]\n",
        "  y_tes[i] = data_y[i+24000]"
      ]
    },
    {
      "cell_type": "code",
      "execution_count": 5,
      "metadata": {
        "colab": {
          "base_uri": "https://localhost:8080/"
        },
        "id": "zQj1omCPkF3i",
        "outputId": "afdc08af-bb46-4440-d604-aef312d067ab"
      },
      "outputs": [
        {
          "data": {
            "text/plain": [
              "((24000, 30, 30), (24000,), (6000, 30, 30), (6000,))"
            ]
          },
          "execution_count": 5,
          "metadata": {},
          "output_type": "execute_result"
        }
      ],
      "source": [
        "x_tra.shape, y_tra.shape, x_tes.shape, y_tes.shape"
      ]
    },
    {
      "cell_type": "markdown",
      "metadata": {
        "id": "vqeaeaUDcjrU"
      },
      "source": [
        "You can visualize the data by changing a to an integer within 0 to 6000"
      ]
    },
    {
      "cell_type": "code",
      "execution_count": null,
      "metadata": {
        "id": "9C0WCNP7sJZC"
      },
      "outputs": [],
      "source": [
        "a = 3000\n",
        "plot_pic(x_tes,y_tes,a)"
      ]
    },
    {
      "cell_type": "markdown",
      "metadata": {
        "id": "8aXeVTHwAiPg"
      },
      "source": []
    },
    {
      "cell_type": "code",
      "execution_count": 6,
      "metadata": {
        "id": "vrG7It9Aymk9"
      },
      "outputs": [],
      "source": [
        "import tensorflow.keras as kr"
      ]
    },
    {
      "cell_type": "markdown",
      "metadata": {
        "id": "VkJPKgBxANKg"
      },
      "source": [
        "Your Neural Network Starts from this line! We have an example that's also on the Lab6 powerpoint."
      ]
    },
    {
      "cell_type": "markdown",
      "metadata": {
        "id": "MQIhOYkobonp"
      },
      "source": [
        "You need to run this cell everytime you modify your model. \n",
        "Remember that you can modify\n",
        "+ Layers (limited to 10)\n",
        "+ Optimizers\n",
        "+ Activation functions\n",
        "* Number of neurons\n",
        "+ Learning Rate"
      ]
    },
    {
      "cell_type": "code",
      "execution_count": 9,
      "metadata": {
        "id": "7Uzh7hvWMzdR"
      },
      "outputs": [],
      "source": [
        "Model = kr.Sequential(\n",
        "    [\n",
        "     kr.Input((30,30)),  # Input layer\n",
        "     kr.layers.Flatten(), # Flatten into 1D array with 900 items\n",
        "     kr.layers.Dense(32*4,'relu'),  # one Hidden Layer\n",
        "     kr.layers.Dense(32*3,'relu'),  # one Hidden Layer\n",
        "     kr.layers.Dense(32*2,'relu'),  # one Hidden Layer\n",
        "     kr.layers.Dense(32*1,'relu'),  # one Hidden Layer\n",
        "     kr.layers.Dense(5,'softmax')    # Output layer\n",
        "    ]\n",
        ")\n",
        "Model.compile(\n",
        "    # SGD Optimizer\n",
        "    optimizer=kr.optimizers.Adam(1e-3),\n",
        "    # SparseCategoricalCrossentropy\n",
        "    loss=kr.losses.SparseCategoricalCrossentropy(from_logits=False),\n",
        "    # List of metrics to monitor\n",
        "    metrics=['accuracy'],\n",
        ")"
      ]
    },
    {
      "cell_type": "markdown",
      "metadata": {
        "id": "ix4mEL65on-w"
      },
      "source": [
        "## Training The Model\n",
        "Run Model.fit to train, remember that you can modify\n",
        "+ batch_size\n",
        "+ epochs (limited to 10)"
      ]
    },
    {
      "cell_type": "code",
      "execution_count": 10,
      "metadata": {
        "colab": {
          "base_uri": "https://localhost:8080/"
        },
        "id": "y7suUbJXVLqP",
        "outputId": "eb38f485-909d-43d3-ba83-13fc7960b274"
      },
      "outputs": [
        {
          "name": "stdout",
          "output_type": "stream",
          "text": [
            "Epoch 1/10\n",
            "675/675 [==============================] - 2s 3ms/step - loss: 0.2381 - accuracy: 0.9173 - val_loss: 0.2504 - val_accuracy: 0.8579\n",
            "Epoch 2/10\n",
            "675/675 [==============================] - 2s 3ms/step - loss: 0.0589 - accuracy: 0.9809 - val_loss: 0.0361 - val_accuracy: 0.9883\n",
            "Epoch 3/10\n",
            "675/675 [==============================] - 2s 3ms/step - loss: 0.0670 - accuracy: 0.9792 - val_loss: 0.1013 - val_accuracy: 0.9625\n",
            "Epoch 4/10\n",
            "675/675 [==============================] - 2s 3ms/step - loss: 0.0887 - accuracy: 0.9774 - val_loss: 0.0492 - val_accuracy: 0.9817\n",
            "Epoch 5/10\n",
            "675/675 [==============================] - 2s 3ms/step - loss: 0.0448 - accuracy: 0.9859 - val_loss: 0.0582 - val_accuracy: 0.9829\n",
            "Epoch 6/10\n",
            "675/675 [==============================] - 2s 3ms/step - loss: 0.0555 - accuracy: 0.9845 - val_loss: 0.0607 - val_accuracy: 0.9750\n",
            "Epoch 7/10\n",
            "675/675 [==============================] - 2s 3ms/step - loss: 0.0318 - accuracy: 0.9903 - val_loss: 0.1371 - val_accuracy: 0.9504\n",
            "Epoch 8/10\n",
            "675/675 [==============================] - 2s 3ms/step - loss: 0.0339 - accuracy: 0.9901 - val_loss: 0.0907 - val_accuracy: 0.9712\n",
            "Epoch 9/10\n",
            "675/675 [==============================] - 2s 3ms/step - loss: 0.0235 - accuracy: 0.9924 - val_loss: 0.0510 - val_accuracy: 0.9879\n",
            "Epoch 10/10\n",
            "675/675 [==============================] - 2s 3ms/step - loss: 0.0265 - accuracy: 0.9922 - val_loss: 0.0544 - val_accuracy: 0.9821\n",
            "188/188 - 0s - loss: 0.0582 - accuracy: 0.9812 - 457ms/epoch - 2ms/step\n"
          ]
        },
        {
          "data": {
            "text/plain": [
              "[0.05823894217610359, 0.981166660785675]"
            ]
          },
          "execution_count": 10,
          "metadata": {},
          "output_type": "execute_result"
        }
      ],
      "source": [
        "Model.fit(\n",
        "    x_tra, # Training Input\n",
        "    y_tra, # Training Answers\n",
        "    batch_size=32,\n",
        "    epochs=10,\n",
        "    # We pass some validation for\n",
        "    # monitoring validation loss and metrics\n",
        "    # at the end of each epoch\n",
        "    # validation_data=(x_tra, y_tra),\n",
        "    validation_split=0.1,\n",
        ")\n",
        "Model.evaluate(x_tes,  y_tes, verbose=2)"
      ]
    },
    {
      "cell_type": "code",
      "execution_count": null,
      "metadata": {
        "id": "6-GlcdhYkwCm"
      },
      "outputs": [],
      "source": []
    }
  ],
  "metadata": {
    "accelerator": "GPU",
    "colab": {
      "collapsed_sections": [],
      "provenance": []
    },
    "gpuClass": "standard",
    "kernelspec": {
      "display_name": "Python 3.9.12 ('base')",
      "language": "python",
      "name": "python3"
    },
    "language_info": {
      "name": "python",
      "version": "3.9.12"
    },
    "vscode": {
      "interpreter": {
        "hash": "6b1b51844297d35c968758913ba1b8e9c346e0ddf0da5bc15cfd46ed8ca42702"
      }
    }
  },
  "nbformat": 4,
  "nbformat_minor": 0
}
