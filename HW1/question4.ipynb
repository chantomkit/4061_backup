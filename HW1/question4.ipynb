{
 "cells": [
  {
   "cell_type": "code",
   "execution_count": 55,
   "metadata": {},
   "outputs": [],
   "source": [
    "import random\n",
    "import numpy as np\n",
    "import matplotlib.pyplot as plt"
   ]
  },
  {
   "cell_type": "code",
   "execution_count": 56,
   "metadata": {},
   "outputs": [],
   "source": [
    "def f(x):\n",
    "    return x**8\n",
    "true_val = 1/9"
   ]
  },
  {
   "cell_type": "code",
   "execution_count": 57,
   "metadata": {},
   "outputs": [],
   "source": [
    "def trapezoidal(a, b ,n):\n",
    "    h = (b - a) / n\n",
    "    sum = 0\n",
    "    for i in range(0, n+1):\n",
    "        sum += 2*f(i*h) if (n > i > 0) else f(i*h)\n",
    "    return sum * h/2\n",
    "\n",
    "def rand(a, b, n):\n",
    "    fxs = f(np.random.uniform(a, b, (n+1,)))\n",
    "    return fxs.sum() / (n+1)"
   ]
  },
  {
   "cell_type": "markdown",
   "metadata": {},
   "source": [
    "## Trapezoidal rule\n",
    "\n",
    "Cell Output:\n",
    "\n",
    "N slices, Numerical result, Squared deviation of numerical result and true value\n",
    "\n",
    "The plot shows log(sqdev) against log(N), the plot is very linear"
   ]
  },
  {
   "cell_type": "code",
   "execution_count": 58,
   "metadata": {},
   "outputs": [
    {
     "name": "stdout",
     "output_type": "stream",
     "text": [
      "10 0.11773133300000004 4.382733785812411e-05\n",
      "100 0.11117777311133333 4.443822273627276e-09\n",
      "1000 0.1111117777773111 4.4444382221488915e-13\n",
      "10000 0.11111111777777784 4.4444445322843114e-17\n",
      "100000 0.1111111111777786 4.444554352524643e-21\n",
      "1000000 0.11111111111177892 4.459742391642509e-25\n",
      "10000000 0.11111111111112554 2.0830858278492343e-28\n"
     ]
    },
    {
     "data": {
      "image/png": "[encoded data removed]",
      "text/plain": [
       "<Figure size 432x288 with 1 Axes>"
      ]
     },
     "metadata": {
      "needs_background": "light"
     },
     "output_type": "display_data"
    }
   ],
   "source": [
    "nslices, sqdev = [], []\n",
    "for N in [10**i for i in range(1, 8)]:\n",
    "    I = trapezoidal(0, 1, N)\n",
    "    nslices.append(N)\n",
    "    sqdev.append((I - true_val)**2)\n",
    "    print(nslices[-1], I, sqdev[-1])\n",
    "plt.scatter(np.log(nslices)/np.log(10), np.log(sqdev)/np.log(10))\n",
    "plt.xlabel(\"Log Number of slices\")\n",
    "plt.ylabel(\"Log squared deviation\")\n",
    "plt.title(\"Log squared deviation as function of log N\")\n",
    "plt.show()"
   ]
  },
  {
   "cell_type": "markdown",
   "metadata": {},
   "source": [
    "## Random Sampling\n",
    "\n",
    "Cell Output:\n",
    "\n",
    "N sample points, Numerical result, Squared deviation of numerical result and true value\n",
    "\n",
    "The plot shows log(sqdev) against log(N), the results are not necessary linear, that means the precision of random sampling does not constantly increase with more and more sample points"
   ]
  },
  {
   "cell_type": "code",
   "execution_count": 59,
   "metadata": {},
   "outputs": [
    {
     "name": "stdout",
     "output_type": "stream",
     "text": [
      "10 0.1503871162861168 0.001542604582507075\n",
      "100 0.1157315810650309 2.134874259507557e-05\n",
      "1000 0.10766881124404824 1.1849428374780997e-05\n",
      "10000 0.11166017957199798 3.0147617474067643e-07\n",
      "100000 0.1109777690139269 1.7780114881480574e-08\n",
      "1000000 0.11098598022936673 1.565773756612427e-08\n",
      "10000000 0.11106834051595721 1.829323809818465e-09\n"
     ]
    },
    {
     "data": {
      "image/png": "[encoded data removed]",
      "text/plain": [
       "<Figure size 432x288 with 1 Axes>"
      ]
     },
     "metadata": {
      "needs_background": "light"
     },
     "output_type": "display_data"
    }
   ],
   "source": [
    "nslices, sqdev = [], []\n",
    "for N in [10**i for i in range(1, 8)]:\n",
    "    I = rand(0, 1, N)\n",
    "    nslices.append(N)\n",
    "    sqdev.append((I - true_val)**2)\n",
    "    print(nslices[-1], I, sqdev[-1])\n",
    "plt.scatter(np.log(nslices)/np.log(10), np.log(sqdev)/np.log(10))\n",
    "plt.xlabel(\"Number of slices\")\n",
    "plt.ylabel(\"Log squared deviation\")\n",
    "plt.title(\"Log squared deviation as function of N\")\n",
    "plt.show()"
   ]
  },
  {
   "cell_type": "code",
   "execution_count": null,
   "metadata": {},
   "outputs": [],
   "source": []
  }
 ],
 "metadata": {
  "kernelspec": {
   "display_name": "Python 3.9.12 ('base')",
   "language": "python",
   "name": "python3"
  },
  "language_info": {
   "codemirror_mode": {
    "name": "ipython",
    "version": 3
   },
   "file_extension": ".py",
   "mimetype": "text/x-python",
   "name": "python",
   "nbconvert_exporter": "python",
   "pygments_lexer": "ipython3",
   "version": "3.9.12"
  },
  "orig_nbformat": 4,
  "vscode": {
   "interpreter": {
    "hash": "6b1b51844297d35c968758913ba1b8e9c346e0ddf0da5bc15cfd46ed8ca42702"
   }
  }
 },
 "nbformat": 4,
 "nbformat_minor": 2
}
