{
 "cells": [
  {
   "cell_type": "code",
   "execution_count": 36,
   "metadata": {},
   "outputs": [],
   "source": [
    "import random"
   ]
  },
  {
   "cell_type": "code",
   "execution_count": 2,
   "metadata": {},
   "outputs": [],
   "source": [
    "def f(x):\n",
    "    return x**8"
   ]
  },
  {
   "cell_type": "code",
   "execution_count": 38,
   "metadata": {},
   "outputs": [],
   "source": [
    "def trapezoidal(a, b ,n):\n",
    "    h = (b - a) / n\n",
    "    fxs = [f(i*h) for i in range(0, n+1)]\n",
    "    return (2*sum(fxs) - fxs[0] - fxs[-1]) * h/2\n",
    "\n",
    "def rand(a, b, n):\n",
    "    fxs = [f(random.uniform(a, b)) for i in range(0, n+1)]\n",
    "    return sum(fxs) / (n+1)"
   ]
  },
  {
   "cell_type": "code",
   "execution_count": 43,
   "metadata": {},
   "outputs": [
    {
     "name": "stdout",
     "output_type": "stream",
     "text": [
      "10 0.11773133300000004 0.13677958303862148\n",
      "100 0.11117777311133333 0.1145399389062487\n",
      "1000 0.1111117777773111 0.10570272539037077\n",
      "10000 0.11111111777777784 0.11241289273133431\n",
      "100000 0.1111111111777786 0.11097127647813033\n",
      "1000000 0.11111111111177892 0.11146941995689827\n"
     ]
    }
   ],
   "source": [
    "for N in [10**i for i in range(1, 7)]:\n",
    "    print(N, trapezoidal(0, 1, N), rand(0, 1, N))"
   ]
  },
  {
   "cell_type": "code",
   "execution_count": null,
   "metadata": {},
   "outputs": [],
   "source": []
  }
 ],
 "metadata": {
  "kernelspec": {
   "display_name": "Python 3.9.12 ('base')",
   "language": "python",
   "name": "python3"
  },
  "language_info": {
   "codemirror_mode": {
    "name": "ipython",
    "version": 3
   },
   "file_extension": ".py",
   "mimetype": "text/x-python",
   "name": "python",
   "nbconvert_exporter": "python",
   "pygments_lexer": "ipython3",
   "version": "3.9.12"
  },
  "orig_nbformat": 4,
  "vscode": {
   "interpreter": {
    "hash": "6b1b51844297d35c968758913ba1b8e9c346e0ddf0da5bc15cfd46ed8ca42702"
   }
  }
 },
 "nbformat": 4,
 "nbformat_minor": 2
}
