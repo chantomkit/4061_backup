{
 "cells": [
  {
   "cell_type": "code",
   "execution_count": 18,
   "metadata": {},
   "outputs": [],
   "source": [
    "import numpy as np\n",
    "import math"
   ]
  },
  {
   "cell_type": "code",
   "execution_count": 19,
   "metadata": {},
   "outputs": [],
   "source": [
    "a_ArAr = 5.311 # argon lattice constant"
   ]
  },
  {
   "cell_type": "markdown",
   "metadata": {},
   "source": [
    "## Utility functions\n",
    "1. generate structures (simple cubic and FCC)\n",
    "2. add perturbation"
   ]
  },
  {
   "cell_type": "code",
   "execution_count": 20,
   "metadata": {},
   "outputs": [],
   "source": [
    "def gen_simplecubic(nx, ny, nz, lattice_cnst, shiftx = 0, shifty = 0, shiftz = 0):\n",
    "    return np.array([[i*lattice_cnst+shiftx, j*lattice_cnst+shifty, k*lattice_cnst+shiftz] for i in range(nx) for j in range(ny) for k in range(nz)])\n",
    "\n",
    "def gen_fcc(nx, ny, nz, lattice_cnst, shiftx = 0, shifty = 0, shiftz = 0):\n",
    "    return np.array([[[(i+shiftx)*lattice_cnst, (j+shifty)*lattice_cnst, (k+shiftz)*lattice_cnst], \n",
    "    [(i+0.5+shiftx)*lattice_cnst, (j+0.5+shifty)*lattice_cnst, (k+shiftz)*lattice_cnst],\n",
    "    [(i+0.5+shiftx)*lattice_cnst, (j+shifty)*lattice_cnst, (k+0.5+shiftz)*lattice_cnst], \n",
    "    [(i+shiftx)*lattice_cnst, (j+0.5+shifty)*lattice_cnst, (k+0.5+shiftz)*lattice_cnst]]for i in range(nx) for j in range(ny) for k in range(nz)]).reshape(-1, 3)\n",
    "\n",
    "def perturb_cell(cell, strength=0.05):\n",
    "    return cell + np.random.rand(cell.shape[0], cell.shape[1]) * strength"
   ]
  },
  {
   "cell_type": "markdown",
   "metadata": {},
   "source": [
    "A test for generation function"
   ]
  },
  {
   "cell_type": "code",
   "execution_count": 21,
   "metadata": {},
   "outputs": [
    {
     "data": {
      "text/plain": [
       "(32, 3)"
      ]
     },
     "execution_count": 21,
     "metadata": {},
     "output_type": "execute_result"
    }
   ],
   "source": [
    "dim = 2\n",
    "# cell = gen_simplecubic(dim,dim,dim,a_ArAr)\n",
    "cell = gen_fcc(dim,dim,dim,a_ArAr)\n",
    "cell_vector = np.array([[dim*a_ArAr,0,0], [0,dim*a_ArAr,0], [0,0,dim*a_ArAr]])\n",
    "cell.shape"
   ]
  },
  {
   "cell_type": "markdown",
   "metadata": {},
   "source": [
    "## Utiliies Functions \n",
    "1. reciprocal vectors for lattice vectors\n",
    "2. PBC for distance vectors"
   ]
  },
  {
   "cell_type": "code",
   "execution_count": 22,
   "metadata": {},
   "outputs": [],
   "source": [
    "def reciprocal_vec(a):\n",
    "    b = np.empty((3,3))\n",
    "    vol = np.dot(a[0], np.cross(a[1], a[2]))\n",
    "    b[0] = np.cross(a[1], a[2]) / vol\n",
    "    b[1] = np.cross(a[2], a[0]) / vol\n",
    "    b[2] = np.cross(a[0], a[1]) / vol\n",
    "    return b\n",
    "\n",
    "def pbc(d):\n",
    "    tmp = np.modf(d)[0]\n",
    "    tmp[tmp > 0.5000001] -= 1\n",
    "    tmp[tmp < -0.5000001] += 1\n",
    "    return tmp\n"
   ]
  },
  {
   "cell_type": "markdown",
   "metadata": {},
   "source": [
    "A test for riprocal vec and pbc"
   ]
  },
  {
   "cell_type": "code",
   "execution_count": 23,
   "metadata": {},
   "outputs": [
    {
     "data": {
      "text/plain": [
       "(array([ 1.0622e+01,  1.1322e+04, -3.1300e+02]),\n",
       " array([ 0.   , -1.052, -4.962]))"
      ]
     },
     "execution_count": 23,
     "metadata": {},
     "output_type": "execute_result"
    }
   ],
   "source": [
    "r_cell_vector = reciprocal_vec(cell_vector)\n",
    "d = np.array([dim*a_ArAr,11322,-313])\n",
    "r_trued = pbc(d.dot(r_cell_vector))\n",
    "trued = r_trued.dot(cell_vector)\n",
    "d, trued"
   ]
  },
  {
   "cell_type": "markdown",
   "metadata": {},
   "source": [
    "## Neighbor list function"
   ]
  },
  {
   "cell_type": "code",
   "execution_count": 24,
   "metadata": {},
   "outputs": [],
   "source": [
    "import pandas as pd\n",
    "def neighbor_list(xyz, lattice, cutoff=np.Inf):\n",
    "    nlist = {'atom1':[], 'atom2':[], 'dvec': [], 'r2': []}\n",
    "    r_lattice = reciprocal_vec(lattice)\n",
    "    for i in range(len(xyz)):\n",
    "        for j in range(i+1, len(xyz)):\n",
    "            d = xyz[j] - xyz[i]\n",
    "            # print(j, i, xyz[j], xyz[i], d)\n",
    "            r_trued = pbc(d.dot(r_lattice))\n",
    "            # print(r_trued)\n",
    "            trued = r_trued.dot(lattice)\n",
    "            # print(trued)\n",
    "            r2 = trued.dot(trued)\n",
    "            if r2 < cutoff**2:\n",
    "                nlist['atom1'].append(i)\n",
    "                nlist['atom2'].append(j)\n",
    "                nlist['dvec'].append(trued)\n",
    "                nlist['r2'].append(r2)\n",
    "    return nlist"
   ]
  },
  {
   "cell_type": "markdown",
   "metadata": {},
   "source": [
    "## LJ potenial calculation and LJ first derivative prefactor calculation"
   ]
  },
  {
   "cell_type": "code",
   "execution_count": 25,
   "metadata": {},
   "outputs": [],
   "source": [
    "pi = 3.141592654\n",
    "e_0 = 55.26349406 / 1e4 # e^2 eV^-1 Angstrom^-1, vacuum permittivity\n",
    "eV = 1.602176634e-19\n",
    "\n",
    "a_ArAr = 5.311 # Angstrom, lattice constant\n",
    "epsilon_ArAr = 0.0104 # eV, potential params \n",
    "sigma_ArAr = 0.34 * 10 # Angstrom, potential params \n",
    "\n",
    "En_Ar = -0.08 # eV, reference cohesive energy\n",
    "\n",
    "def LJ(r2, epsilon, sigma):\n",
    "    sq_sigma = sigma * sigma\n",
    "    s_r_6 = (sq_sigma / r2) * (sq_sigma / r2) * (sq_sigma / r2)\n",
    "    return 4 * epsilon * (s_r_6 * s_r_6 - s_r_6)\n",
    "\n",
    "def LJ_slope_prefactor(r2, epsilon, sigma):\n",
    "    sigma2 = sigma * sigma\n",
    "    s_r_6 = (sigma2 / r2) * (sigma2 / r2) * (sigma2 / r2)\n",
    "    return 4 * epsilon * (- 12 * s_r_6 * s_r_6 / r2 + 6 * s_r_6 / r2)"
   ]
  },
  {
   "cell_type": "markdown",
   "metadata": {},
   "source": [
    "## Main Functions 1\n",
    "1. LJ potential slopes for all atoms\n",
    "2. Moving all atoms given slopes and rate\n",
    "3. Secant method for line minimization\n",
    "4. Solve LJ potential with Steepest Descent"
   ]
  },
  {
   "cell_type": "code",
   "execution_count": 26,
   "metadata": {},
   "outputs": [],
   "source": [
    "def LJ_Fprime(xyz, lattice):\n",
    "    nlist_df = pd.DataFrame(neighbor_list(xyz, lattice))\n",
    "    Fprime = np.zeros((len(xyz), 3))\n",
    "    # en = sum(LJ(nlist_df['r2'], epsilon_ArAr, sigma_ArAr))\n",
    "    pref_df = LJ_slope_prefactor(nlist_df['r2'], epsilon_ArAr, sigma_ArAr)\n",
    "    for (pref, d, a1, a2) in zip(pref_df, nlist_df['dvec'], nlist_df['atom1'], nlist_df['atom2']):\n",
    "        Fprime[a1] -= pref * np.array(d)\n",
    "        Fprime[a2] += pref * np.array(d)\n",
    "    return Fprime\n",
    "\n",
    "def nextstep_xyz(xyz, Fprime, rate):\n",
    "    return np.array([coords + a * -f for (coords, a, f) in zip(xyz, rate, Fprime)])\n",
    "\n",
    "def secant_method(Fprime, step_Fprime, h, rate, tol=1e-20):\n",
    "    diff = (step_Fprime - Fprime).dot((step_Fprime - Fprime).T).diagonal()\n",
    "    # alpha = -rate * Fprime.dot(h.T).diagonal() / (step_Fprime - Fprime).dot(h.T).diagonal()\n",
    "    frac = Fprime.dot(h.T).diagonal() / (step_Fprime - Fprime).dot(h.T).diagonal()\n",
    "    alpha = np.array([-a * f for (a, f) in zip(rate, frac)])\n",
    "    alpha[diff < tol] = 0\n",
    "    return alpha\n",
    "\n",
    "def LJ_SD(xyz, lattice, rate):\n",
    "    Fprime = LJ_Fprime(xyz, lattice)\n",
    "    step_Fprime = LJ_Fprime(nextstep_xyz(xyz, Fprime, rate=rate), lattice)\n",
    "    h = -Fprime\n",
    "    alpha = secant_method(Fprime, step_Fprime, h, rate=rate)\n",
    "    # next_xyz = np.array([coords + a * -f for (coords, a, f) in zip(xyz, alpha, Fprime)])\n",
    "    next_xyz = nextstep_xyz(xyz, Fprime, rate=alpha)\n",
    "    return alpha, next_xyz"
   ]
  },
  {
   "cell_type": "markdown",
   "metadata": {},
   "source": [
    "## Write Argon cell into xyz for output / debugging"
   ]
  },
  {
   "cell_type": "code",
   "execution_count": 27,
   "metadata": {},
   "outputs": [],
   "source": [
    "def write_Arcell(Ar_cell, fname='Arcell.xyz'):\n",
    "    with open(fname, \"w\") as file1:\n",
    "        file1.write(f\"{len(Ar_cell)}\\n\")\n",
    "        file1.write(\"\\n\")\n",
    "        for i, row in enumerate(Ar_cell):\n",
    "            atom = \"Ar\"\n",
    "            file1.write(f\"{atom}\\t{row[0]}\\t{row[1]}\\t{row[2]}\\n\")\n",
    "    return"
   ]
  },
  {
   "cell_type": "markdown",
   "metadata": {},
   "source": [
    "## Perform SD on perturbed 2x2x2 Argon FCC cell"
   ]
  },
  {
   "cell_type": "code",
   "execution_count": 33,
   "metadata": {},
   "outputs": [
    {
     "name": "stdout",
     "output_type": "stream",
     "text": [
      "initial energy -2.283415594425085\n",
      "total energy -2.2865267541139365 energy per atom -0.07145396106606051\n",
      "total energy -2.2874565252383374 energy per atom -0.07148301641369804\n",
      "total energy -2.287983687334804 energy per atom -0.07149949022921262\n",
      "total energy -2.2882595913092962 energy per atom -0.07150811222841551\n",
      "total energy -2.288332908648218 energy per atom -0.07151040339525681\n",
      "total energy -2.2884397714629405 energy per atom -0.07151374285821689\n",
      "total energy -2.288479757965484 energy per atom -0.07151499243642137\n",
      "total energy -2.288524240418702 energy per atom -0.07151638251308444\n",
      "total energy -2.288650666850876 energy per atom -0.07152033333908987\n",
      "total energy -2.2886944627483574 energy per atom -0.07152170196088617\n",
      "total energy -2.28874066772418 energy per atom -0.07152314586638063\n",
      "total energy -2.2887641907830503 energy per atom -0.07152388096197032\n",
      "total energy -2.2887851892829 energy per atom -0.07152453716509062\n",
      "total energy -2.288878685452442 energy per atom -0.07152745892038881\n",
      "total energy -2.288950387635079 energy per atom -0.07152969961359622\n"
     ]
    }
   ],
   "source": [
    "dim = 2\n",
    "cell = gen_fcc(dim,dim,dim,a_ArAr)\n",
    "cell = perturb_cell(cell, strength=0.01)\n",
    "write_Arcell(cell, 'Arcell_before.xyz')\n",
    "cell_vector = np.array([[dim*a_ArAr,0,0], [0,dim*a_ArAr,0], [0,0,dim*a_ArAr]])\n",
    "rate = np.ones(len(cell)) * 1e-6\n",
    "\n",
    "nlist_df = pd.DataFrame(neighbor_list(cell, cell_vector))\n",
    "en_tmp = sum(LJ(nlist_df['r2'], epsilon_ArAr, sigma_ArAr))\n",
    "print('initial energy', en_tmp)\n",
    "\n",
    "for i in range(15):\n",
    "    alpha, next_cell = LJ_SD(cell, cell_vector, rate=rate)\n",
    "    cell = next_cell\n",
    "    nlist_df = pd.DataFrame(neighbor_list(cell, cell_vector))\n",
    "    next_en = sum(LJ(nlist_df['r2'], epsilon_ArAr, sigma_ArAr))\n",
    "    print('total energy', next_en, 'energy per atom', next_en / len(cell))\n",
    "    if (abs(next_en - en_tmp) < 1e-5):\n",
    "        print(\"converged\")\n",
    "        break\n",
    "    en_tmp = next_en\n",
    "\n",
    "write_Arcell(cell, 'Arcell_after.xyz')"
   ]
  },
  {
   "cell_type": "markdown",
   "metadata": {},
   "source": [
    "## CoulombBuckingham potential and slope prefactor"
   ]
  },
  {
   "cell_type": "code",
   "execution_count": 29,
   "metadata": {},
   "outputs": [],
   "source": [
    "a_MgO = 4.26 # // Angstrom, lattice constant\n",
    "# const double a_MgO = 1; // Angstrom, lattice constant\n",
    "\n",
    "A_MgMg = 0# // eV, potential params \n",
    "B_MgMg = 1# // Angstrom^-1, potential params \n",
    "C_MgMg = 0# // eV Angstrom^6, potential params \n",
    "\n",
    "A_MgO = 821.6 # // eV, potential params \n",
    "B_MgO = 1. / 0.3242 # // Angstrom^-1, potential params \n",
    "C_MgO = 0 # // eV Angstrom^6, potential params\n",
    "\n",
    "A_OO = 22764. # // eV, potential params \n",
    "B_OO = 1. / 0.149 # // Angstrom^-1, potential params \n",
    "C_OO = 27.88 # // eV Angstrom^6, potential params \n",
    "\n",
    "q_Mg = 2 # // e, Mg 2+ ion charge\n",
    "q_O = -2 # // e, O 2- ion charge\n",
    "\n",
    "En_MgO = -20.1 # // eV, reference binding energy\n",
    "\n",
    "def CoulombBuckingham(r2, q1, q2, A, B, C):\n",
    "    r = np.sqrt(r2)\n",
    "    return (A * np.exp(-B * r)) - (C / (r2 * r2 * r2)) + ((q1 * q2) / (4 * pi * e_0 * r))\n",
    "\n",
    "def CoulombBuckingham_slope_prefactor(r2, q1, q2, A, B, C):\n",
    "    r = np.sqrt(r2)\n",
    "    return (-A * B * np.exp(-B * r) / r) + (6 * C / (r2 * r2 * r2 * r2)) - (q1 * q2 / (4 * pi * e_0 * r2 * r))"
   ]
  },
  {
   "cell_type": "markdown",
   "metadata": {},
   "source": [
    "## Main Functions 2\n",
    "1. Total energy of CoulombBuckingham potential given neighbour list\n",
    "2. CoulombBuckingham potential slopes for all atoms\n",
    "3. Solve CoulombBuckingham potential with Conjugate Gradient Descent"
   ]
  },
  {
   "cell_type": "code",
   "execution_count": 30,
   "metadata": {},
   "outputs": [],
   "source": [
    "def total_CoulombBuckingham(nlist_df, length):\n",
    "    en_tot = 0\n",
    "    tmp_r2 = nlist_df.loc[((nlist_df['atom1'] < length) & (nlist_df['atom2'] < length)), 'r2']\n",
    "    en_tot += sum(CoulombBuckingham(tmp_r2, q_Mg, q_Mg, A_MgMg, B_MgMg, C_MgMg))\n",
    "    tmp_r2 = nlist_df.loc[((nlist_df['atom1'] >= length) & (nlist_df['atom2'] >= length)), 'r2']\n",
    "    en_tot += sum(CoulombBuckingham(tmp_r2, q_O, q_O, A_OO, B_OO, C_OO))\n",
    "    tmp_r2 = nlist_df.loc[((nlist_df['atom1'] < length) & (nlist_df['atom2'] >= length)), 'r2']\n",
    "    en_tot += sum(CoulombBuckingham(tmp_r2, q_Mg, q_O, A_MgO, B_MgO, C_MgO))\n",
    "    tmp_r2 = nlist_df.loc[((nlist_df['atom1'] >= length) & (nlist_df['atom2'] < length)), 'r2']\n",
    "    en_tot += sum(CoulombBuckingham(tmp_r2, q_Mg, q_O, A_MgO, B_MgO, C_MgO))\n",
    "    return en_tot\n",
    "\n",
    "def CoulombBuckingham_Fprime(xyz, lattice, length):\n",
    "    nlist_df = pd.DataFrame(neighbor_list(xyz, lattice))\n",
    "    Fprime = np.zeros((len(xyz), 3))\n",
    "    \n",
    "    nlist_df['pref'] = 0\n",
    "    tmp_r2 = nlist_df.loc[((nlist_df['atom1'] < length) & (nlist_df['atom2'] < length)), 'r2']\n",
    "    nlist_df.loc[((nlist_df['atom1'] < length) & (nlist_df['atom2'] < length)), 'pref'] = CoulombBuckingham_slope_prefactor(tmp_r2, q_Mg, q_Mg, A_MgMg, B_MgMg, C_MgMg)\n",
    "\n",
    "    tmp_r2 = nlist_df.loc[((nlist_df['atom1'] >= length) & (nlist_df['atom2'] >= length)), 'r2']\n",
    "    nlist_df.loc[((nlist_df['atom1'] >= length) & (nlist_df['atom2'] >= length)), 'pref'] = CoulombBuckingham_slope_prefactor(tmp_r2, q_O, q_O, A_OO, B_OO, C_OO)\n",
    "\n",
    "    tmp_r2 = nlist_df.loc[((nlist_df['atom1'] < length) & (nlist_df['atom2'] >= length)), 'r2']\n",
    "    nlist_df.loc[((nlist_df['atom1'] < length) & (nlist_df['atom2'] >= length)), 'pref'] = CoulombBuckingham_slope_prefactor(tmp_r2, q_Mg, q_O, A_MgO, B_MgO, C_MgO)\n",
    "\n",
    "    tmp_r2 = nlist_df.loc[((nlist_df['atom1'] >= length) & (nlist_df['atom2'] < length)), 'r2']\n",
    "    nlist_df.loc[((nlist_df['atom1'] >= length) & (nlist_df['atom2'] < length)), 'pref'] = CoulombBuckingham_slope_prefactor(tmp_r2, q_Mg, q_O, A_MgO, B_MgO, C_MgO)\n",
    "    \n",
    "    for (pref, d, a1, a2) in zip(nlist_df['pref'], nlist_df['dvec'], nlist_df['atom1'], nlist_df['atom2']):\n",
    "        Fprime[a1] -= pref * np.array(d)\n",
    "        Fprime[a2] += pref * np.array(d)\n",
    "        # if (a1 == 16) or (a2 == 16):\n",
    "        #     print(pref, d, a1, a2, Fprime[16])\n",
    "    return Fprime\n",
    "\n",
    "def CoulombBuckingham_CG(xyz, lattice, rate, h, length):\n",
    "    Fprime = CoulombBuckingham_Fprime(xyz, lattice, length)\n",
    "    step_Fprime = CoulombBuckingham_Fprime(nextstep_xyz(xyz, Fprime, rate=rate), lattice, length)\n",
    "    # print(Fprime[:8], Fprime.shape)\n",
    "    # print(step_Fprime[:8], step_Fprime.shape)\n",
    "\n",
    "    alpha = secant_method(Fprime, step_Fprime, h, rate=rate, tol=1e-7)\n",
    "    next_xyz = nextstep_xyz(xyz, Fprime, rate=alpha)\n",
    "\n",
    "    new_Fprime = CoulombBuckingham_Fprime(next_xyz, lattice, length)\n",
    "    # print(new_Fprime[:8], new_Fprime.shape)\n",
    "    gamma = Fprime.dot(Fprime.T).diagonal() / new_Fprime.dot(new_Fprime.T).diagonal()\n",
    "    next_h = np.array([-f + ga * h_prev for (f, ga, h_prev) in zip(new_Fprime, gamma, h)])\n",
    "    return next_xyz, next_h\n",
    "    "
   ]
  },
  {
   "cell_type": "markdown",
   "metadata": {},
   "source": [
    "## Write MgO cell into xyz for output / debugging"
   ]
  },
  {
   "cell_type": "code",
   "execution_count": 31,
   "metadata": {},
   "outputs": [],
   "source": [
    "def write_MgOcell(MgO_cell, length, fname='MgOcell.xyz'):\n",
    "    with open(fname, \"w\") as file1:\n",
    "        file1.write(f\"{len(MgO_cell)}\\n\")\n",
    "        file1.write(\"\\n\")\n",
    "        for i, row in enumerate(MgO_cell):\n",
    "            atom = \"Mg\" if i < length else \"O\"\n",
    "            file1.write(f\"{atom}\\t{row[0]}\\t{row[1]}\\t{row[2]}\\n\")\n",
    "    return"
   ]
  },
  {
   "cell_type": "markdown",
   "metadata": {},
   "source": [
    "## Perform CGD on perturbed 2x2x2 MgO FCC cell"
   ]
  },
  {
   "cell_type": "code",
   "execution_count": 32,
   "metadata": {},
   "outputs": [
    {
     "name": "stdout",
     "output_type": "stream",
     "text": [
      "initial energy -1299.753961715469\n",
      "total energy -1191.406109663605 energy per atom -18.61572046349383\n",
      "total energy -6489.743093990854 energy per atom -101.40223584360709\n",
      "total energy -6330.269448273171 energy per atom -98.9104601292683\n",
      "total energy -6163.446477829997 energy per atom -96.3038512160937\n",
      "total energy -5835.009796108288 energy per atom -91.172028064192\n",
      "total energy -5474.792110244882 energy per atom -85.54362672257628\n",
      "total energy -5122.2442250907025 energy per atom -80.03506601704223\n",
      "total energy -4758.464224716226 energy per atom -74.35100351119104\n",
      "total energy -4700.290023317586 energy per atom -73.44203161433728\n",
      "total energy -3731.1369942988076 energy per atom -58.29901553591887\n",
      "total energy -2810.2890001403503 energy per atom -43.91076562719297\n",
      "total energy -1956.3287680959565 energy per atom -30.56763700149932\n",
      "total energy -5725.663468523442 energy per atom -89.46349169567878\n",
      "total energy -7197.716442196475 energy per atom -112.46431940931993\n",
      "total energy -155232.62527722193 energy per atom -2425.5097699565927\n"
     ]
    }
   ],
   "source": [
    "dim = 2\n",
    "MgO_cell = gen_fcc(dim, dim, dim, a_MgO)\n",
    "Mg_length = len(MgO_cell)\n",
    "O_cell = gen_fcc(dim, dim, dim, a_MgO, 0.5)\n",
    "MgO_cell = np.append(MgO_cell, O_cell, axis=0)\n",
    "\n",
    "MgO_cell = perturb_cell(MgO_cell, strength=0.01)\n",
    "MgO_cell_vector = np.array([[dim*a_MgO,0,0], [0,dim*a_MgO,0], [0,0,dim*a_MgO]])\n",
    "write_MgOcell(MgO_cell, Mg_length, 'MgOcell_before.xyz')\n",
    "\n",
    "rate = np.ones(len(MgO_cell)) * 1e-6\n",
    "h = - CoulombBuckingham_Fprime(MgO_cell, MgO_cell_vector, Mg_length)\n",
    "\n",
    "nlist_df = pd.DataFrame(neighbor_list(MgO_cell, MgO_cell_vector))\n",
    "en_tmp = total_CoulombBuckingham(nlist_df, length=Mg_length)\n",
    "print('initial energy', en_tmp)\n",
    "for i in range(15):\n",
    "    MgO_cell_next, h_next = CoulombBuckingham_CG(MgO_cell, MgO_cell_vector, rate, h, Mg_length)\n",
    "    MgO_cell = MgO_cell_next\n",
    "    h = h_next\n",
    "    \n",
    "    nlist_df = pd.DataFrame(neighbor_list(MgO_cell, MgO_cell_vector))\n",
    "    next_en = total_CoulombBuckingham(nlist_df, length=Mg_length)\n",
    "    print('total energy', next_en, 'energy per atom', next_en / len(MgO_cell))\n",
    "    if (abs(next_en - en_tmp) < 1e-3):\n",
    "        print(\"converged\")\n",
    "        break\n",
    "    en_tmp = next_en\n",
    "    # break\n",
    "write_MgOcell(MgO_cell, Mg_length, 'MgOcell_after.xyz')"
   ]
  },
  {
   "cell_type": "code",
   "execution_count": null,
   "metadata": {},
   "outputs": [],
   "source": []
  }
 ],
 "metadata": {
  "kernelspec": {
   "display_name": "Python 3.9.12 ('base')",
   "language": "python",
   "name": "python3"
  },
  "language_info": {
   "codemirror_mode": {
    "name": "ipython",
    "version": 3
   },
   "file_extension": ".py",
   "mimetype": "text/x-python",
   "name": "python",
   "nbconvert_exporter": "python",
   "pygments_lexer": "ipython3",
   "version": "3.9.12"
  },
  "orig_nbformat": 4,
  "vscode": {
   "interpreter": {
    "hash": "6b1b51844297d35c968758913ba1b8e9c346e0ddf0da5bc15cfd46ed8ca42702"
   }
  }
 },
 "nbformat": 4,
 "nbformat_minor": 2
}
