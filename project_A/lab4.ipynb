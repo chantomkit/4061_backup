{
 "cells": [
  {
   "cell_type": "code",
   "execution_count": 43,
   "metadata": {},
   "outputs": [],
   "source": [
    "import numpy as np\n",
    "import math"
   ]
  },
  {
   "cell_type": "code",
   "execution_count": 44,
   "metadata": {},
   "outputs": [],
   "source": [
    "a_ArAr = 5.311 # argon lattice constant"
   ]
  },
  {
   "cell_type": "markdown",
   "metadata": {},
   "source": [
    "## Utility functions\n",
    "1. generate structures (simple cubic and FCC)\n",
    "2. add perturbation"
   ]
  },
  {
   "cell_type": "code",
   "execution_count": 45,
   "metadata": {},
   "outputs": [],
   "source": [
    "def gen_simplecubic(nx, ny, nz, lattice_cnst, shiftx = 0, shifty = 0, shiftz = 0):\n",
    "    return np.array([[i*lattice_cnst+shiftx, j*lattice_cnst+shifty, k*lattice_cnst+shiftz] for i in range(nx) for j in range(ny) for k in range(nz)])\n",
    "\n",
    "def gen_fcc(nx, ny, nz, lattice_cnst, shiftx = 0, shifty = 0, shiftz = 0):\n",
    "    return np.array([[[(i+shiftx)*lattice_cnst, (j+shifty)*lattice_cnst, (k+shiftz)*lattice_cnst], \n",
    "    [(i+0.5+shiftx)*lattice_cnst, (j+0.5+shifty)*lattice_cnst, (k+shiftz)*lattice_cnst],\n",
    "    [(i+0.5+shiftx)*lattice_cnst, (j+shifty)*lattice_cnst, (k+0.5+shiftz)*lattice_cnst], \n",
    "    [(i+shiftx)*lattice_cnst, (j+0.5+shifty)*lattice_cnst, (k+0.5+shiftz)*lattice_cnst]]for i in range(nx) for j in range(ny) for k in range(nz)]).reshape(-1, 3)\n",
    "\n",
    "def perturb_cell(cell, strength=0.05):\n",
    "    return cell + np.random.rand(cell.shape[0], cell.shape[1]) * strength"
   ]
  },
  {
   "cell_type": "markdown",
   "metadata": {},
   "source": [
    "A test for generation function"
   ]
  },
  {
   "cell_type": "code",
   "execution_count": 46,
   "metadata": {},
   "outputs": [
    {
     "data": {
      "text/plain": [
       "(32, 3)"
      ]
     },
     "execution_count": 46,
     "metadata": {},
     "output_type": "execute_result"
    }
   ],
   "source": [
    "dim = 2\n",
    "cell = gen_fcc(dim,dim,dim,a_ArAr)\n",
    "cell_vector = np.array([[dim*a_ArAr,0,0], [0,dim*a_ArAr,0], [0,0,dim*a_ArAr]])\n",
    "cell.shape"
   ]
  },
  {
   "cell_type": "markdown",
   "metadata": {},
   "source": [
    "## Utiliies Functions \n",
    "1. reciprocal vectors for lattice vectors\n",
    "2. PBC for distance vectors"
   ]
  },
  {
   "cell_type": "code",
   "execution_count": 47,
   "metadata": {},
   "outputs": [],
   "source": [
    "def reciprocal_vec(a):\n",
    "    b = np.empty((3,3))\n",
    "    vol = np.dot(a[0], np.cross(a[1], a[2]))\n",
    "    b[0] = np.cross(a[1], a[2]) / vol\n",
    "    b[1] = np.cross(a[2], a[0]) / vol\n",
    "    b[2] = np.cross(a[0], a[1]) / vol\n",
    "    return b\n",
    "\n",
    "def pbc(d):\n",
    "    tmp = np.modf(d)[0]\n",
    "    tmp[tmp > 0.5000001] -= 1\n",
    "    tmp[tmp < -0.5000001] += 1\n",
    "    return tmp\n"
   ]
  },
  {
   "cell_type": "markdown",
   "metadata": {},
   "source": [
    "A test for riprocal vec and pbc"
   ]
  },
  {
   "cell_type": "code",
   "execution_count": 48,
   "metadata": {},
   "outputs": [
    {
     "data": {
      "text/plain": [
       "(array([ 1.0622e+01,  1.1322e+04, -3.1300e+02]),\n",
       " array([ 0.   , -1.052, -4.962]))"
      ]
     },
     "execution_count": 48,
     "metadata": {},
     "output_type": "execute_result"
    }
   ],
   "source": [
    "r_cell_vector = reciprocal_vec(cell_vector)\n",
    "d = np.array([dim*a_ArAr,11322,-313])\n",
    "r_trued = pbc(d.dot(r_cell_vector))\n",
    "trued = r_trued.dot(cell_vector)\n",
    "d, trued"
   ]
  },
  {
   "cell_type": "markdown",
   "metadata": {},
   "source": [
    "## Neighbor list function"
   ]
  },
  {
   "cell_type": "code",
   "execution_count": 49,
   "metadata": {},
   "outputs": [],
   "source": [
    "import pandas as pd\n",
    "def neighbor_list(xyz, lattice, cutoff=np.Inf):\n",
    "    nlist = {'atom1':[], 'atom2':[], 'dvec': [], 'r2': []}\n",
    "    r_lattice = reciprocal_vec(lattice)\n",
    "    for i in range(len(xyz)):\n",
    "        for j in range(i+1, len(xyz)):\n",
    "            d = xyz[j] - xyz[i]\n",
    "            r_trued = pbc(d.dot(r_lattice))\n",
    "            trued = r_trued.dot(lattice)\n",
    "            r2 = trued.dot(trued)\n",
    "            if r2 < cutoff**2:\n",
    "                nlist['atom1'].append(i)\n",
    "                nlist['atom2'].append(j)\n",
    "                nlist['dvec'].append(trued)\n",
    "                nlist['r2'].append(r2)\n",
    "    return nlist"
   ]
  },
  {
   "cell_type": "markdown",
   "metadata": {},
   "source": [
    "## LJ potenial calculation and LJ first derivative prefactor calculation"
   ]
  },
  {
   "cell_type": "code",
   "execution_count": 50,
   "metadata": {},
   "outputs": [],
   "source": [
    "pi = 3.141592654\n",
    "e_0 = 55.26349406 / 1e4 # e^2 eV^-1 Angstrom^-1, vacuum permittivity\n",
    "eV = 1.602176634e-19\n",
    "\n",
    "a_ArAr = 5.311 # Angstrom, lattice constant\n",
    "epsilon_ArAr = 0.0104 # eV, potential params \n",
    "sigma_ArAr = 0.34 * 10 # Angstrom, potential params \n",
    "\n",
    "En_Ar = -0.08 # eV, reference cohesive energy\n",
    "\n",
    "def LJ(r2, epsilon, sigma):\n",
    "    sq_sigma = sigma * sigma\n",
    "    s_r_6 = (sq_sigma / r2) * (sq_sigma / r2) * (sq_sigma / r2)\n",
    "    return 4 * epsilon * (s_r_6 * s_r_6 - s_r_6)\n",
    "\n",
    "def LJ_slope_prefactor(r2, epsilon, sigma):\n",
    "    sigma2 = sigma * sigma\n",
    "    s_r_6 = (sigma2 / r2) * (sigma2 / r2) * (sigma2 / r2)\n",
    "    return 4 * epsilon * (- 12 * s_r_6 * s_r_6 / r2 + 6 * s_r_6 / r2)"
   ]
  },
  {
   "cell_type": "markdown",
   "metadata": {},
   "source": [
    "## Main Functions 1\n",
    "1. LJ potential slopes for all atoms\n",
    "2. Moving all atoms given slopes and rate\n",
    "3. Secant method for line minimization\n",
    "4. Solve LJ potential with Steepest Descent"
   ]
  },
  {
   "cell_type": "code",
   "execution_count": 51,
   "metadata": {},
   "outputs": [],
   "source": [
    "def LJ_Fprime(xyz, lattice):\n",
    "    nlist_df = pd.DataFrame(neighbor_list(xyz, lattice))\n",
    "    Fprime = np.zeros((len(xyz), 3))\n",
    "    pref_df = LJ_slope_prefactor(nlist_df['r2'], epsilon_ArAr, sigma_ArAr)\n",
    "    for (pref, d, a1, a2) in zip(pref_df, nlist_df['dvec'], nlist_df['atom1'], nlist_df['atom2']):\n",
    "        Fprime[a1] -= pref * np.array(d)\n",
    "        Fprime[a2] += pref * np.array(d)\n",
    "    return Fprime\n",
    "\n",
    "def nextstep_xyz(xyz, Fprime, rate):\n",
    "    return np.array([coords + a * -f for (coords, a, f) in zip(xyz, rate, Fprime)])\n",
    "\n",
    "def secant_method(Fprime, step_Fprime, h, rate, tol=1e-20):\n",
    "    diff = (step_Fprime - Fprime).dot((step_Fprime - Fprime).T).diagonal()\n",
    "    frac = Fprime.dot(h.T).diagonal() / (step_Fprime - Fprime).dot(h.T).diagonal()\n",
    "    alpha = np.array([-a * f for (a, f) in zip(rate, frac)])\n",
    "    alpha[diff < tol] = 0\n",
    "    return alpha\n",
    "\n",
    "def LJ_SD(xyz, lattice, rate):\n",
    "    Fprime = LJ_Fprime(xyz, lattice)\n",
    "    step_Fprime = LJ_Fprime(nextstep_xyz(xyz, Fprime, rate=rate), lattice)\n",
    "    h = -Fprime\n",
    "    alpha = secant_method(Fprime, step_Fprime, h, rate=rate)\n",
    "    next_xyz = nextstep_xyz(xyz, Fprime, rate=alpha)\n",
    "    return alpha, next_xyz"
   ]
  },
  {
   "cell_type": "markdown",
   "metadata": {},
   "source": [
    "## Write Argon cell into xyz for output / debugging"
   ]
  },
  {
   "cell_type": "code",
   "execution_count": 52,
   "metadata": {},
   "outputs": [],
   "source": [
    "def write_Arcell(Ar_cell, fname='Arcell.xyz'):\n",
    "    with open(fname, \"w\") as file1:\n",
    "        file1.write(f\"{len(Ar_cell)}\\n\")\n",
    "        file1.write(\"\\n\")\n",
    "        for i, row in enumerate(Ar_cell):\n",
    "            atom = \"Ar\"\n",
    "            file1.write(f\"{atom}\\t{row[0]}\\t{row[1]}\\t{row[2]}\\n\")\n",
    "    return"
   ]
  },
  {
   "cell_type": "markdown",
   "metadata": {},
   "source": [
    "## Perform SD on perturbed 2x2x2 Argon FCC cell"
   ]
  },
  {
   "cell_type": "code",
   "execution_count": 62,
   "metadata": {},
   "outputs": [
    {
     "name": "stdout",
     "output_type": "stream",
     "text": [
      "initial energy -2.283446571668403\n",
      "total energy -2.2868474557190557 energy per atom -0.07146398299122049\n",
      "total energy -2.2877987196922507 energy per atom -0.07149370999038283\n",
      "total energy -2.2876345967018388 energy per atom -0.07148858114693246\n",
      "total energy -2.288060218033243 energy per atom -0.07150188181353885\n",
      "total energy -2.2881509919139815 energy per atom -0.07150471849731192\n",
      "total energy -2.2881778445610985 energy per atom -0.07150555764253433\n",
      "total energy -2.2881828011892735 energy per atom -0.0715057125371648\n",
      "converged\n"
     ]
    }
   ],
   "source": [
    "dim = 2\n",
    "cell = gen_fcc(dim,dim,dim,a_ArAr)\n",
    "cell = perturb_cell(cell, strength=0.01)\n",
    "write_Arcell(cell, 'Arcell_before.xyz')\n",
    "cell_vector = np.array([[dim*a_ArAr,0,0], [0,dim*a_ArAr,0], [0,0,dim*a_ArAr]])\n",
    "rate = np.ones(len(cell)) * 1e-6\n",
    "\n",
    "nlist_df = pd.DataFrame(neighbor_list(cell, cell_vector))\n",
    "all_en = []\n",
    "all_en.append(sum(LJ(nlist_df['r2'], epsilon_ArAr, sigma_ArAr)))\n",
    "print('initial energy', all_en[-1])\n",
    "\n",
    "for i in range(15):\n",
    "    alpha, next_cell = LJ_SD(cell, cell_vector, rate=rate)\n",
    "    cell = next_cell\n",
    "    nlist_df = pd.DataFrame(neighbor_list(cell, cell_vector))\n",
    "    next_en = sum(LJ(nlist_df['r2'], epsilon_ArAr, sigma_ArAr))\n",
    "    print('total energy', next_en, 'energy per atom', next_en / len(cell))\n",
    "    if (abs(next_en - all_en[-1]) < 1e-5):\n",
    "        print(\"converged\")\n",
    "        break\n",
    "    all_en.append(next_en)\n",
    "\n",
    "write_Arcell(cell, 'Arcell_after.xyz')"
   ]
  },
  {
   "cell_type": "code",
   "execution_count": 63,
   "metadata": {},
   "outputs": [
    {
     "data": {
      "text/plain": [
       "Text(0.5, 1.0, 'Perturbed Ar Cell 2x2x2 (LJ potential + Steepest Descent)')"
      ]
     },
     "execution_count": 63,
     "metadata": {},
     "output_type": "execute_result"
    },
    {
     "data": {
      "image/png": "[encoded data removed]",
      "text/plain": [
       "<Figure size 432x288 with 1 Axes>"
      ]
     },
     "metadata": {
      "needs_background": "light"
     },
     "output_type": "display_data"
    }
   ],
   "source": [
    "import matplotlib.pyplot as plt\n",
    "plt.plot(all_en)\n",
    "plt.ylabel('total energy (eV)')\n",
    "plt.xlabel('step')\n",
    "plt.title('Perturbed Ar Cell 2x2x2 (LJ potential + Steepest Descent)')"
   ]
  },
  {
   "cell_type": "markdown",
   "metadata": {},
   "source": [
    "## CoulombBuckingham potential and slope prefactor"
   ]
  },
  {
   "cell_type": "code",
   "execution_count": 55,
   "metadata": {},
   "outputs": [],
   "source": [
    "a_MgO = 4.26 # // Angstrom, lattice constant\n",
    "# const double a_MgO = 1; // Angstrom, lattice constant\n",
    "\n",
    "A_MgMg = 0# // eV, potential params \n",
    "B_MgMg = 1# // Angstrom^-1, potential params \n",
    "C_MgMg = 0# // eV Angstrom^6, potential params \n",
    "\n",
    "A_MgO = 821.6 # // eV, potential params \n",
    "B_MgO = 1. / 0.3242 # // Angstrom^-1, potential params \n",
    "C_MgO = 0 # // eV Angstrom^6, potential params\n",
    "\n",
    "A_OO = 22764. # // eV, potential params \n",
    "B_OO = 1. / 0.149 # // Angstrom^-1, potential params \n",
    "C_OO = 27.88 # // eV Angstrom^6, potential params \n",
    "\n",
    "q_Mg = 2 # // e, Mg 2+ ion charge\n",
    "q_O = -2 # // e, O 2- ion charge\n",
    "\n",
    "En_MgO = -20.1 # // eV, reference binding energy\n",
    "\n",
    "def CoulombBuckingham(r2, q1, q2, A, B, C):\n",
    "    r = np.sqrt(r2)\n",
    "    return (A * np.exp(-B * r)) - (C / (r2 * r2 * r2)) + ((q1 * q2) / (4 * pi * e_0 * r))\n",
    "\n",
    "def CoulombBuckingham_slope_prefactor(r2, q1, q2, A, B, C):\n",
    "    r = np.sqrt(r2)\n",
    "    return (-A * B * np.exp(-B * r) / r) + (6 * C / (r2 * r2 * r2 * r2)) - (q1 * q2 / (4 * pi * e_0 * r2 * r))"
   ]
  },
  {
   "cell_type": "markdown",
   "metadata": {},
   "source": [
    "## Main Functions 2\n",
    "1. Total energy of CoulombBuckingham potential given neighbour list\n",
    "2. CoulombBuckingham potential slopes for all atoms\n",
    "3. Solve CoulombBuckingham potential with Conjugate Gradient Descent"
   ]
  },
  {
   "cell_type": "code",
   "execution_count": 56,
   "metadata": {},
   "outputs": [],
   "source": [
    "def total_CoulombBuckingham(nlist_df, length):\n",
    "    en_tot = 0\n",
    "    tmp_r2 = nlist_df.loc[((nlist_df['atom1'] < length) & (nlist_df['atom2'] < length)), 'r2']\n",
    "    en_tot += sum(CoulombBuckingham(tmp_r2, q_Mg, q_Mg, A_MgMg, B_MgMg, C_MgMg))\n",
    "    tmp_r2 = nlist_df.loc[((nlist_df['atom1'] >= length) & (nlist_df['atom2'] >= length)), 'r2']\n",
    "    en_tot += sum(CoulombBuckingham(tmp_r2, q_O, q_O, A_OO, B_OO, C_OO))\n",
    "    tmp_r2 = nlist_df.loc[((nlist_df['atom1'] < length) & (nlist_df['atom2'] >= length)), 'r2']\n",
    "    en_tot += sum(CoulombBuckingham(tmp_r2, q_Mg, q_O, A_MgO, B_MgO, C_MgO))\n",
    "    tmp_r2 = nlist_df.loc[((nlist_df['atom1'] >= length) & (nlist_df['atom2'] < length)), 'r2']\n",
    "    en_tot += sum(CoulombBuckingham(tmp_r2, q_Mg, q_O, A_MgO, B_MgO, C_MgO))\n",
    "    return en_tot\n",
    "\n",
    "def CoulombBuckingham_Fprime(xyz, lattice, length):\n",
    "    nlist_df = pd.DataFrame(neighbor_list(xyz, lattice))\n",
    "    Fprime = np.zeros((len(xyz), 3))\n",
    "    \n",
    "    nlist_df['pref'] = 0\n",
    "    tmp_r2 = nlist_df.loc[((nlist_df['atom1'] < length) & (nlist_df['atom2'] < length)), 'r2']\n",
    "    nlist_df.loc[((nlist_df['atom1'] < length) & (nlist_df['atom2'] < length)), 'pref'] = CoulombBuckingham_slope_prefactor(tmp_r2, q_Mg, q_Mg, A_MgMg, B_MgMg, C_MgMg)\n",
    "\n",
    "    tmp_r2 = nlist_df.loc[((nlist_df['atom1'] >= length) & (nlist_df['atom2'] >= length)), 'r2']\n",
    "    nlist_df.loc[((nlist_df['atom1'] >= length) & (nlist_df['atom2'] >= length)), 'pref'] = CoulombBuckingham_slope_prefactor(tmp_r2, q_O, q_O, A_OO, B_OO, C_OO)\n",
    "\n",
    "    tmp_r2 = nlist_df.loc[((nlist_df['atom1'] < length) & (nlist_df['atom2'] >= length)), 'r2']\n",
    "    nlist_df.loc[((nlist_df['atom1'] < length) & (nlist_df['atom2'] >= length)), 'pref'] = CoulombBuckingham_slope_prefactor(tmp_r2, q_Mg, q_O, A_MgO, B_MgO, C_MgO)\n",
    "\n",
    "    tmp_r2 = nlist_df.loc[((nlist_df['atom1'] >= length) & (nlist_df['atom2'] < length)), 'r2']\n",
    "    nlist_df.loc[((nlist_df['atom1'] >= length) & (nlist_df['atom2'] < length)), 'pref'] = CoulombBuckingham_slope_prefactor(tmp_r2, q_Mg, q_O, A_MgO, B_MgO, C_MgO)\n",
    "    \n",
    "    for (pref, d, a1, a2) in zip(nlist_df['pref'], nlist_df['dvec'], nlist_df['atom1'], nlist_df['atom2']):\n",
    "        Fprime[a1] -= pref * np.array(d)\n",
    "        Fprime[a2] += pref * np.array(d)\n",
    "    return Fprime\n",
    "\n",
    "def CoulombBuckingham_CG(xyz, lattice, rate, h, length):\n",
    "    Fprime = CoulombBuckingham_Fprime(xyz, lattice, length)\n",
    "    step_Fprime = CoulombBuckingham_Fprime(nextstep_xyz(xyz, Fprime, rate=rate), lattice, length)\n",
    "\n",
    "    alpha = secant_method(Fprime, step_Fprime, h, rate=rate, tol=1e-7)\n",
    "    next_xyz = nextstep_xyz(xyz, Fprime, rate=alpha)\n",
    "\n",
    "    new_Fprime = CoulombBuckingham_Fprime(next_xyz, lattice, length)\n",
    "    gamma = Fprime.dot(Fprime.T).diagonal() / new_Fprime.dot(new_Fprime.T).diagonal()\n",
    "    next_h = np.array([-f + ga * h_prev for (f, ga, h_prev) in zip(new_Fprime, gamma, h)])\n",
    "    return next_xyz, next_h\n",
    "    "
   ]
  },
  {
   "cell_type": "markdown",
   "metadata": {},
   "source": [
    "## Write MgO cell into xyz for output / debugging"
   ]
  },
  {
   "cell_type": "code",
   "execution_count": 57,
   "metadata": {},
   "outputs": [],
   "source": [
    "def write_MgOcell(MgO_cell, length, fname='MgOcell.xyz'):\n",
    "    with open(fname, \"w\") as file1:\n",
    "        file1.write(f\"{len(MgO_cell)}\\n\")\n",
    "        file1.write(\"\\n\")\n",
    "        for i, row in enumerate(MgO_cell):\n",
    "            atom = \"Mg\" if i < length else \"O\"\n",
    "            file1.write(f\"{atom}\\t{row[0]}\\t{row[1]}\\t{row[2]}\\n\")\n",
    "    return"
   ]
  },
  {
   "cell_type": "markdown",
   "metadata": {},
   "source": [
    "## Perform CGD on perturbed 2x2x2 MgO FCC cell"
   ]
  },
  {
   "cell_type": "code",
   "execution_count": 58,
   "metadata": {},
   "outputs": [
    {
     "name": "stdout",
     "output_type": "stream",
     "text": [
      "initial energy -1299.584024953836\n",
      "total energy -956.4607847207371 energy per atom -14.944699761261518\n",
      "total energy -827.4365143817031 energy per atom -12.92869553721411\n",
      "total energy -846.5052665461662 energy per atom -13.226644789783848\n",
      "total energy -653.3690044543782 energy per atom -10.20889069459966\n",
      "total energy -549.5840225298798 energy per atom -8.587250352029372\n",
      "total energy -577.3905728075715 energy per atom -9.021727700118305\n",
      "total energy -695.5937453597035 energy per atom -10.868652271245367\n",
      "total energy -749.4584635349893 energy per atom -11.710288492734207\n",
      "total energy -679.7973279108555 energy per atom -10.621833248607118\n",
      "total energy -693.8193456896079 energy per atom -10.840927276400123\n",
      "total energy -1329.889615062697 energy per atom -20.77952523535464\n",
      "total energy -954.6916943377128 energy per atom -14.917057724026762\n",
      "total energy -781.9049558475126 energy per atom -12.217264935117385\n",
      "total energy -635.2285624079486 energy per atom -9.925446287624197\n",
      "total energy -540.8111511227726 energy per atom -8.450174236293321\n"
     ]
    }
   ],
   "source": [
    "dim = 2\n",
    "MgO_cell = gen_fcc(dim, dim, dim, a_MgO)\n",
    "Mg_length = len(MgO_cell)\n",
    "O_cell = gen_fcc(dim, dim, dim, a_MgO, 0.5)\n",
    "MgO_cell = np.append(MgO_cell, O_cell, axis=0)\n",
    "\n",
    "MgO_cell = perturb_cell(MgO_cell, strength=0.01)\n",
    "MgO_cell_vector = np.array([[dim*a_MgO,0,0], [0,dim*a_MgO,0], [0,0,dim*a_MgO]])\n",
    "write_MgOcell(MgO_cell, Mg_length, 'MgOcell_before.xyz')\n",
    "\n",
    "rate = np.ones(len(MgO_cell)) * 1e-6\n",
    "h = - CoulombBuckingham_Fprime(MgO_cell, MgO_cell_vector, Mg_length)\n",
    "\n",
    "nlist_df = pd.DataFrame(neighbor_list(MgO_cell, MgO_cell_vector))\n",
    "all_en = []\n",
    "all_en.append(total_CoulombBuckingham(nlist_df, length=Mg_length))\n",
    "print('initial energy', all_en[-1])\n",
    "for i in range(15):\n",
    "    MgO_cell_next, h_next = CoulombBuckingham_CG(MgO_cell, MgO_cell_vector, rate, h, Mg_length)\n",
    "    MgO_cell = MgO_cell_next\n",
    "    h = h_next\n",
    "    \n",
    "    nlist_df = pd.DataFrame(neighbor_list(MgO_cell, MgO_cell_vector))\n",
    "    next_en = total_CoulombBuckingham(nlist_df, length=Mg_length)\n",
    "    print('total energy', next_en, 'energy per atom', next_en / len(MgO_cell))\n",
    "    if (abs(next_en - all_en[-1]) < 1e-3):\n",
    "        print(\"converged\")\n",
    "        break\n",
    "    all_en.append(next_en)\n",
    "write_MgOcell(MgO_cell, Mg_length, 'MgOcell_after.xyz')"
   ]
  },
  {
   "cell_type": "code",
   "execution_count": 59,
   "metadata": {},
   "outputs": [
    {
     "data": {
      "text/plain": [
       "Text(0.5, 1.0, 'Perturbed MgO Cell 2x2x2 (CoulombBuckingham potential + Conjugate Descent)')"
      ]
     },
     "execution_count": 59,
     "metadata": {},
     "output_type": "execute_result"
    },
    {
     "data": {
      "image/png": "[encoded data removed]",
      "text/plain": [
       "<Figure size 432x288 with 1 Axes>"
      ]
     },
     "metadata": {
      "needs_background": "light"
     },
     "output_type": "display_data"
    }
   ],
   "source": [
    "plt.plot(all_en)\n",
    "plt.ylabel('total energy (eV)')\n",
    "plt.xlabel('step')\n",
    "plt.title('Perturbed MgO Cell 2x2x2 (CoulombBuckingham potential + Conjugate Descent)')"
   ]
  },
  {
   "cell_type": "code",
   "execution_count": null,
   "metadata": {},
   "outputs": [],
   "source": []
  }
 ],
 "metadata": {
  "kernelspec": {
   "display_name": "Python 3.9.12 ('base')",
   "language": "python",
   "name": "python3"
  },
  "language_info": {
   "codemirror_mode": {
    "name": "ipython",
    "version": 3
   },
   "file_extension": ".py",
   "mimetype": "text/x-python",
   "name": "python",
   "nbconvert_exporter": "python",
   "pygments_lexer": "ipython3",
   "version": "3.9.12"
  },
  "orig_nbformat": 4,
  "vscode": {
   "interpreter": {
    "hash": "6b1b51844297d35c968758913ba1b8e9c346e0ddf0da5bc15cfd46ed8ca42702"
   }
  }
 },
 "nbformat": 4,
 "nbformat_minor": 2
}
